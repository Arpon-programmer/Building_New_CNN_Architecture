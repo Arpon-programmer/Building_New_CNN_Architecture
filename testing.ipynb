{
 "cells": [
  {
   "cell_type": "code",
   "execution_count": 3,
   "metadata": {},
   "outputs": [],
   "source": [
    "import torch\n",
    "import torch.nn as nn"
   ]
  },
  {
   "cell_type": "markdown",
   "metadata": {},
   "source": [
    " # This thing should be tried\n",
    "        # for i in range(x.size(1)):\n",
    "        #     if tensor is None:\n",
    "        #         tensor = self.layer(x[:, i:i+1, :, :])\n",
    "        #     else:\n",
    "        #         tensor = torch.cat((tensor, self.layer(x[:, i:i+1, :, :])), 1)"
   ]
  },
  {
   "cell_type": "markdown",
   "metadata": {},
   "source": [
    "# Ideas\n",
    "- conv + fc >>> add all channels\n",
    "- conv + add all channels >>> fc"
   ]
  },
  {
   "cell_type": "code",
   "execution_count": null,
   "metadata": {},
   "outputs": [],
   "source": [
    "class Model_1(nn.Module):\n",
    "    def __init__(self):\n",
    "        super(Model_1, self).__init__()\n",
    "        self.layer = nn.Sequential(\n",
    "            nn.Conv2d(in_channels=1, out_channels=6, kernel_size=5, stride=5, padding=0),\n",
    "            nn.BatchNorm2d(6),\n",
    "            nn.ReLU()\n",
    "        )\n",
    "\n",
    "    def forward(self, x):\n",
    "        tensor = None\n",
    "        for i in range(x.size(1)):\n",
    "            if tensor is None:\n",
    "                tensor = self.layer(x[:, i:i+1, :, :])\n",
    "            else:\n",
    "                tensor = tensor + self.layer(x[:, i:i+1, :, :])\n",
    "\n",
    "        \n",
    "           \n",
    "        return tensor"
   ]
  }
 ],
 "metadata": {
  "kernelspec": {
   "display_name": "base",
   "language": "python",
   "name": "python3"
  },
  "language_info": {
   "codemirror_mode": {
    "name": "ipython",
    "version": 3
   },
   "file_extension": ".py",
   "mimetype": "text/x-python",
   "name": "python",
   "nbconvert_exporter": "python",
   "pygments_lexer": "ipython3",
   "version": "3.12.2"
  }
 },
 "nbformat": 4,
 "nbformat_minor": 2
}
