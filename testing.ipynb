{
 "cells": [
  {
   "cell_type": "code",
   "execution_count": 53,
   "metadata": {},
   "outputs": [],
   "source": [
    "import torch\n",
    "import torch.nn as nn\n",
    "from torchsummary import summary\n",
    "from torch.utils.tensorboard import SummaryWriter"
   ]
  },
  {
   "cell_type": "markdown",
   "metadata": {},
   "source": [
    " # This thing should be tried\n",
    "        # for i in range(x.size(1)):\n",
    "        #     if tensor is None:\n",
    "        #         tensor = self.layer(x[:, i:i+1, :, :])\n",
    "        #     else:\n",
    "        #         tensor = torch.cat((tensor, self.layer(x[:, i:i+1, :, :])), 1)"
   ]
  },
  {
   "cell_type": "markdown",
   "metadata": {},
   "source": [
    "# Ideas\n",
    "- conv + fc >>> add all channels\n",
    "- conv + add all channels >>> fc"
   ]
  },
  {
   "cell_type": "code",
   "execution_count": 54,
   "metadata": {},
   "outputs": [],
   "source": [
    "class Model_1(nn.Module):\n",
    "    def __init__(self):\n",
    "        super(Model_1, self).__init__()\n",
    "        self.name = 'Model_1'\n",
    "        self.layer = nn.Sequential(\n",
    "            nn.Conv2d(in_channels=1, out_channels=6, kernel_size=5, stride=5, padding=0),\n",
    "            nn.BatchNorm2d(6),\n",
    "            nn.ReLU()\n",
    "        )\n",
    "        self.flatten = nn.Flatten()\n",
    "        self.fc = nn.Linear(6*44*44, 1)\n",
    "\n",
    "    def forward(self, x):\n",
    "        tensor = None\n",
    "        for i in range(x.size(1)):\n",
    "            if tensor is None:\n",
    "                tensor = self.layer(x[:, i:i+1, :, :])\n",
    "            else:\n",
    "                tensor = tensor + self.layer(x[:, i:i+1, :, :])\n",
    "        \n",
    "        tensor = self.flatten(tensor)\n",
    "        tensor = self.fc(tensor)\n",
    "        tensor = torch.sigmoid(tensor)\n",
    "        return tensor"
   ]
  },
  {
   "cell_type": "code",
   "execution_count": 55,
   "metadata": {},
   "outputs": [
    {
     "data": {
      "text/plain": [
       "Model_1(\n",
       "  (layer): Sequential(\n",
       "    (0): Conv2d(1, 6, kernel_size=(5, 5), stride=(5, 5))\n",
       "    (1): BatchNorm2d(6, eps=1e-05, momentum=0.1, affine=True, track_running_stats=True)\n",
       "    (2): ReLU()\n",
       "  )\n",
       "  (flatten): Flatten(start_dim=1, end_dim=-1)\n",
       "  (fc): Linear(in_features=11616, out_features=1, bias=True)\n",
       ")"
      ]
     },
     "execution_count": 55,
     "metadata": {},
     "output_type": "execute_result"
    }
   ],
   "source": [
    "model = Model_1()\n",
    "model"
   ]
  },
  {
   "cell_type": "code",
   "execution_count": 56,
   "metadata": {},
   "outputs": [
    {
     "name": "stdout",
     "output_type": "stream",
     "text": [
      "----------------------------------------------------------------\n",
      "        Layer (type)               Output Shape         Param #\n",
      "================================================================\n",
      "            Conv2d-1            [-1, 6, 44, 44]             156\n",
      "       BatchNorm2d-2            [-1, 6, 44, 44]              12\n",
      "              ReLU-3            [-1, 6, 44, 44]               0\n",
      "            Conv2d-4            [-1, 6, 44, 44]             156\n",
      "       BatchNorm2d-5            [-1, 6, 44, 44]              12\n",
      "              ReLU-6            [-1, 6, 44, 44]               0\n",
      "            Conv2d-7            [-1, 6, 44, 44]             156\n",
      "       BatchNorm2d-8            [-1, 6, 44, 44]              12\n",
      "              ReLU-9            [-1, 6, 44, 44]               0\n",
      "          Flatten-10                [-1, 11616]               0\n",
      "           Linear-11                    [-1, 1]          11,617\n",
      "================================================================\n",
      "Total params: 12,121\n",
      "Trainable params: 12,121\n",
      "Non-trainable params: 0\n",
      "----------------------------------------------------------------\n",
      "Input size (MB): 0.57\n",
      "Forward/backward pass size (MB): 0.89\n",
      "Params size (MB): 0.05\n",
      "Estimated Total Size (MB): 1.51\n",
      "----------------------------------------------------------------\n"
     ]
    }
   ],
   "source": [
    "summary(model, (3, 224, 224))"
   ]
  },
  {
   "cell_type": "code",
   "execution_count": 57,
   "metadata": {},
   "outputs": [],
   "source": [
    "writer = SummaryWriter(log_dir=f'runs/{model.name}')\n",
    "writer.add_graph(model, torch.rand(1, 3, 224, 224))"
   ]
  },
  {
   "cell_type": "code",
   "execution_count": null,
   "metadata": {},
   "outputs": [],
   "source": []
  }
 ],
 "metadata": {
  "kernelspec": {
   "display_name": "base",
   "language": "python",
   "name": "python3"
  },
  "language_info": {
   "codemirror_mode": {
    "name": "ipython",
    "version": 3
   },
   "file_extension": ".py",
   "mimetype": "text/x-python",
   "name": "python",
   "nbconvert_exporter": "python",
   "pygments_lexer": "ipython3",
   "version": "3.12.2"
  }
 },
 "nbformat": 4,
 "nbformat_minor": 2
}
